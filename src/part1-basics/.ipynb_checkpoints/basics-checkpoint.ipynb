{
 "cells": [
  {
   "cell_type": "code",
   "execution_count": 6,
   "id": "71cce0c6-11a2-4331-b28d-b6f6481277c2",
   "metadata": {},
   "outputs": [],
   "source": [
    "import * as E from 'effect'"
   ]
  },
  {
   "cell_type": "code",
   "execution_count": 2,
   "id": "9c4698e2-819b-422e-80b3-6ea5a99ff5e1",
   "metadata": {},
   "outputs": [
    {
     "name": "stdout",
     "output_type": "stream",
     "text": [
      "Hello world\n"
     ]
    }
   ],
   "source": [
    "E.Effect.runSync(E.Console.log(\"Hello world\"))\n"
   ]
  },
  {
   "cell_type": "code",
   "execution_count": 3,
   "id": "a530d6ce-b81f-4aa8-8893-f50d23767ad5",
   "metadata": {},
   "outputs": [],
   "source": [
    "const program = E.Effect.gen(function* (_) {\n",
    "    const foo = yield* _(E.Effect.sync(() => Date.now()));\n",
    "    yield* _(E.Console.log(foo))\n",
    "})"
   ]
  },
  {
   "cell_type": "code",
   "execution_count": 4,
   "id": "d92b4329-eb7e-4947-952f-5648e93c03f1",
   "metadata": {},
   "outputs": [
    {
     "name": "stdout",
     "output_type": "stream",
     "text": [
      "\u001b[33m1706629956778\u001b[39m\n",
      "FiberRuntime {\n",
      "  _fiberRefs: FiberRefsImpl {\n",
      "    locals: Map(2) { \u001b[36m[Object]\u001b[39m => \u001b[36m[Array]\u001b[39m, \u001b[36m[Object]\u001b[39m => \u001b[36m[Array]\u001b[39m },\n",
      "    [\u001b[32mSymbol(effect/FiberRefs)\u001b[39m]: \u001b[32mSymbol(effect/FiberRefs)\u001b[39m\n",
      "  },\n",
      "  _fiberId: {\n",
      "    _id: \u001b[32m'FiberId'\u001b[39m,\n",
      "    _tag: \u001b[32m'Runtime'\u001b[39m,\n",
      "    id: \u001b[33m1\u001b[39m,\n",
      "    startTimeMillis: \u001b[33m1706629956778\u001b[39m\n",
      "  },\n",
      "  _runtimeFlags: \u001b[33m53\u001b[39m,\n",
      "  _queue: [],\n",
      "  _children: \u001b[1mnull\u001b[22m,\n",
      "  _observers: [ \u001b[36m[Function (anonymous)]\u001b[39m ],\n",
      "  _running: \u001b[33mfalse\u001b[39m,\n",
      "  _stack: [],\n",
      "  _asyncInterruptor: \u001b[1mnull\u001b[22m,\n",
      "  _asyncBlockingOn: \u001b[1mnull\u001b[22m,\n",
      "  _exitValue: { _id: \u001b[32m'Exit'\u001b[39m, _tag: \u001b[32m'Success'\u001b[39m, value: \u001b[90mundefined\u001b[39m },\n",
      "  _steps: [],\n",
      "  _supervisor: Const {\n",
      "    effect: { _id: \u001b[32m'Exit'\u001b[39m, _tag: \u001b[32m'Success'\u001b[39m, value: \u001b[90mundefined\u001b[39m },\n",
      "    [\u001b[32mSymbol(effect/Supervisor)\u001b[39m]: { _T: \u001b[36m[Function: _T]\u001b[39m }\n",
      "  },\n",
      "  _scheduler: MixedScheduler {\n",
      "    maxNextTickBeforeTimer: \u001b[33m2048\u001b[39m,\n",
      "    running: \u001b[33mfalse\u001b[39m,\n",
      "    tasks: PriorityBuckets { buckets: [] }\n",
      "  },\n",
      "  _tracer: {\n",
      "    span: \u001b[36m[Function: span]\u001b[39m,\n",
      "    context: \u001b[36m[Function: context]\u001b[39m,\n",
      "    [\u001b[32mSymbol(effect/Tracer)\u001b[39m]: \u001b[32mSymbol(effect/Tracer)\u001b[39m\n",
      "  },\n",
      "  currentOpCount: \u001b[33m10\u001b[39m,\n",
      "  isYielding: \u001b[33mfalse\u001b[39m,\n",
      "  run: \u001b[36m[Function: run]\u001b[39m,\n",
      "  [\u001b[32mSymbol(effect/Fiber)\u001b[39m]: { _E: \u001b[36m[Function: _E]\u001b[39m, _A: \u001b[36m[Function: _A]\u001b[39m }\n",
      "}\n"
     ]
    }
   ],
   "source": [
    "E.Effect.runFork(program)"
   ]
  },
  {
   "cell_type": "code",
   "execution_count": null,
   "id": "1a5f7e45-5166-49a4-ab36-f6d60f9f8caf",
   "metadata": {},
   "outputs": [],
   "source": []
  }
 ],
 "metadata": {
  "kernelspec": {
   "display_name": "TypeScript",
   "language": "typescript",
   "name": "tslab"
  },
  "language_info": {
   "codemirror_mode": {
    "mode": "typescript",
    "name": "javascript",
    "typescript": true
   },
   "file_extension": ".ts",
   "mimetype": "text/typescript",
   "name": "typescript",
   "version": "3.7.2"
  }
 },
 "nbformat": 4,
 "nbformat_minor": 5
}
