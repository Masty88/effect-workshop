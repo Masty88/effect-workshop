{
 "cells": [
  {
   "cell_type": "code",
   "execution_count": 9,
   "metadata": {},
   "outputs": [
    {
     "name": "stdout",
     "output_type": "stream",
     "text": [
      "Promise { <pending> }\n"
     ]
    }
   ],
   "source": [
    "var E: Awaited<typeof import(\"effect\")>\n",
    "import(\"effect\").then((_) => {\n",
    "    E = _;\n",
    "})"
   ]
  },
  {
   "cell_type": "code",
   "execution_count": 11,
   "metadata": {},
   "outputs": [],
   "source": [
    "const mightError = E.pipe(\n",
    "    E.Effect.sync(() => Math.random()),\n",
    "    E.Effect.flatMap((n) => {\n",
    "        if (n < 0.5) {\n",
    "            return E.Effect.fail(new Error(\"Too small\"))\n",
    "        } else {\n",
    "            return E.Effect.succeed(n)\n",
    "        }\n",
    "    })\n",
    ")"
   ]
  },
  {
   "cell_type": "code",
   "execution_count": 12,
   "metadata": {},
   "outputs": [
    {
     "name": "stderr",
     "output_type": "stream",
     "text": [
      "{\n",
      "  _id: 'FiberFailure',\n",
      "  cause: {\n",
      "    _id: 'Cause',\n",
      "    _tag: 'Fail',\n",
      "    failure: Error: Too small\n",
      "        at EffectPrimitive.effect_cutpoint [as i1] (evalmachine.<anonymous>:5:38)\n",
      "        at Object.OnSuccess (/workspaces/effect-workshop/node_modules/effect/dist/cjs/internal/fiberRuntime.js:117:17)\n",
      "        at FiberRuntime.Sync (/workspaces/effect-workshop/node_modules/effect/dist/cjs/internal/fiberRuntime.js:890:37)\n",
      "        at /workspaces/effect-workshop/node_modules/effect/dist/cjs/internal/fiberRuntime.js:1086:31\n",
      "        at Object.context (/workspaces/effect-workshop/node_modules/effect/dist/cjs/internal/tracer.js:98:17)\n",
      "        at FiberRuntime.runLoop (/workspaces/effect-workshop/node_modules/effect/dist/cjs/internal/fiberRuntime.js:1081:28)\n",
      "        at FiberRuntime.evaluateEffect (/workspaces/effect-workshop/node_modules/effect/dist/cjs/internal/fiberRuntime.js:714:27)\n",
      "        at FiberRuntime.start (/workspaces/effect-workshop/node_modules/effect/dist/cjs/internal/fiberRuntime.js:767:14)\n",
      "        at /workspaces/effect-workshop/node_modules/effect/dist/cjs/internal/runtime.js:83:18\n",
      "        at /workspaces/effect-workshop/node_modules/effect/dist/cjs/internal/runtime.js:221:43\n",
      "  }\n",
      "}\n"
     ]
    }
   ],
   "source": [
    "E.Effect.runSync(mightError)"
   ]
  },
  {
   "cell_type": "code",
   "execution_count": 13,
   "metadata": {},
   "outputs": [],
   "source": [
    "const effectFetch = (url: string) =>\n",
    "  E.pipe(\n",
    "    E.Effect.tryPromise(() => fetch(url)),\n",
    "    E.Effect.flatMap((res) => E.Effect.tryPromise(() => res.text())),\n",
    "    E.Effect.flatMap((text) => E.Console.log(text))\n",
    "  );"
   ]
  },
  {
   "cell_type": "code",
   "execution_count": 14,
   "metadata": {},
   "outputs": [
    {
     "name": "stdout",
     "output_type": "stream",
     "text": [
      "Promise { <pending> }\n"
     ]
    },
    {
     "name": "stdout",
     "output_type": "stream",
     "text": [
      "{\n",
      "  \"userId\": 1,\n",
      "  \"id\": 1,\n",
      "  \"title\": \"delectus aut autem\",\n",
      "  \"completed\": false\n",
      "}\n"
     ]
    },
    {
     "name": "stderr",
     "output_type": "stream",
     "text": [
      "UnhandledPromiseRejection: TypeError: host.getCurrentDirectory is not a function\n",
      "    at Object.getCurrentDirectory (/usr/local/share/nvm/versions/node/v20.11.0/lib/node_modules/tslab/node_modules/@tslab/typescript-for-tslab/lib/typescript.js:127295:39)\n",
      "    at forEachFileNameOfModule (/usr/local/share/nvm/versions/node/v20.11.0/lib/node_modules/tslab/node_modules/@tslab/typescript-for-tslab/lib/typescript.js:44481:22)\n",
      "    at getAllModulePathsWorker (/usr/local/share/nvm/versions/node/v20.11.0/lib/node_modules/tslab/node_modules/@tslab/typescript-for-tslab/lib/typescript.js:44537:5)\n",
      "    at Object.getModuleSpecifiersWithCacheInfo (/usr/local/share/nvm/versions/node/v20.11.0/lib/node_modules/tslab/node_modules/@tslab/typescript-for-tslab/lib/typescript.js:44341:35)\n",
      "    at getModuleSpecifiers2 (/usr/local/share/nvm/versions/node/v20.11.0/lib/node_modules/tslab/node_modules/@tslab/typescript-for-tslab/lib/typescript.js:140582:308)\n",
      "    at /usr/local/share/nvm/versions/node/v20.11.0/lib/node_modules/tslab/node_modules/@tslab/typescript-for-tslab/lib/typescript.js:140586:58\n",
      "    at flatMap (/usr/local/share/nvm/versions/node/v20.11.0/lib/node_modules/tslab/node_modules/@tslab/typescript-for-tslab/lib/typescript.js:307:19)\n",
      "    at getNewImportFixes (/usr/local/share/nvm/versions/node/v20.11.0/lib/node_modules/tslab/node_modules/@tslab/typescript-for-tslab/lib/typescript.js:140584:19)\n",
      "    at getFixesForAddImport (/usr/local/share/nvm/versions/node/v20.11.0/lib/node_modules/tslab/node_modules/@tslab/typescript-for-tslab/lib/typescript.js:140638:69)\n",
      "    at getImportFixes (/usr/local/share/nvm/versions/node/v20.11.0/lib/node_modules/tslab/node_modules/@tslab/typescript-for-tslab/lib/typescript.js:140431:54)\n",
      "UnhandledPromiseRejection: TypeError: host.getCurrentDirectory is not a function\n",
      "    at Object.getCurrentDirectory (/usr/local/share/nvm/versions/node/v20.11.0/lib/node_modules/tslab/node_modules/@tslab/typescript-for-tslab/lib/typescript.js:127295:39)\n",
      "    at forEachFileNameOfModule (/usr/local/share/nvm/versions/node/v20.11.0/lib/node_modules/tslab/node_modules/@tslab/typescript-for-tslab/lib/typescript.js:44481:22)\n",
      "    at getAllModulePathsWorker (/usr/local/share/nvm/versions/node/v20.11.0/lib/node_modules/tslab/node_modules/@tslab/typescript-for-tslab/lib/typescript.js:44537:5)\n",
      "    at Object.getModuleSpecifiersWithCacheInfo (/usr/local/share/nvm/versions/node/v20.11.0/lib/node_modules/tslab/node_modules/@tslab/typescript-for-tslab/lib/typescript.js:44341:35)\n",
      "    at getModuleSpecifiers2 (/usr/local/share/nvm/versions/node/v20.11.0/lib/node_modules/tslab/node_modules/@tslab/typescript-for-tslab/lib/typescript.js:140582:308)\n",
      "    at /usr/local/share/nvm/versions/node/v20.11.0/lib/node_modules/tslab/node_modules/@tslab/typescript-for-tslab/lib/typescript.js:140586:58\n",
      "    at flatMap (/usr/local/share/nvm/versions/node/v20.11.0/lib/node_modules/tslab/node_modules/@tslab/typescript-for-tslab/lib/typescript.js:307:19)\n",
      "    at getNewImportFixes (/usr/local/share/nvm/versions/node/v20.11.0/lib/node_modules/tslab/node_modules/@tslab/typescript-for-tslab/lib/typescript.js:140584:19)\n",
      "    at getFixesForAddImport (/usr/local/share/nvm/versions/node/v20.11.0/lib/node_modules/tslab/node_modules/@tslab/typescript-for-tslab/lib/typescript.js:140638:69)\n",
      "    at getImportFixes (/usr/local/share/nvm/versions/node/v20.11.0/lib/node_modules/tslab/node_modules/@tslab/typescript-for-tslab/lib/typescript.js:140431:54)\n",
      "UnhandledPromiseRejection: TypeError: host.getCurrentDirectory is not a function\n",
      "    at Object.getCurrentDirectory (/usr/local/share/nvm/versions/node/v20.11.0/lib/node_modules/tslab/node_modules/@tslab/typescript-for-tslab/lib/typescript.js:127295:39)\n",
      "    at forEachFileNameOfModule (/usr/local/share/nvm/versions/node/v20.11.0/lib/node_modules/tslab/node_modules/@tslab/typescript-for-tslab/lib/typescript.js:44481:22)\n",
      "    at getAllModulePathsWorker (/usr/local/share/nvm/versions/node/v20.11.0/lib/node_modules/tslab/node_modules/@tslab/typescript-for-tslab/lib/typescript.js:44537:5)\n",
      "    at Object.getModuleSpecifiersWithCacheInfo (/usr/local/share/nvm/versions/node/v20.11.0/lib/node_modules/tslab/node_modules/@tslab/typescript-for-tslab/lib/typescript.js:44341:35)\n",
      "    at getModuleSpecifiers2 (/usr/local/share/nvm/versions/node/v20.11.0/lib/node_modules/tslab/node_modules/@tslab/typescript-for-tslab/lib/typescript.js:140582:308)\n",
      "    at /usr/local/share/nvm/versions/node/v20.11.0/lib/node_modules/tslab/node_modules/@tslab/typescript-for-tslab/lib/typescript.js:140586:58\n",
      "    at flatMap (/usr/local/share/nvm/versions/node/v20.11.0/lib/node_modules/tslab/node_modules/@tslab/typescript-for-tslab/lib/typescript.js:307:19)\n",
      "    at getNewImportFixes (/usr/local/share/nvm/versions/node/v20.11.0/lib/node_modules/tslab/node_modules/@tslab/typescript-for-tslab/lib/typescript.js:140584:19)\n",
      "    at getFixesForAddImport (/usr/local/share/nvm/versions/node/v20.11.0/lib/node_modules/tslab/node_modules/@tslab/typescript-for-tslab/lib/typescript.js:140638:69)\n",
      "    at getImportFixes (/usr/local/share/nvm/versions/node/v20.11.0/lib/node_modules/tslab/node_modules/@tslab/typescript-for-tslab/lib/typescript.js:140431:54)\n"
     ]
    }
   ],
   "source": [
    "E.Effect.runPromise(effectFetch(\"https://jsonplaceholder.typicode.com/todos/1\"))"
   ]
  },
  {
   "cell_type": "code",
   "execution_count": null,
   "metadata": {},
   "outputs": [],
   "source": [
    "const loop = E.Console.log('loop').pipe(E.Effect.forever);\n",
    "const handle = E.Effect.runFork(loop);"
   ]
  }
 ],
 "metadata": {
  "kernelspec": {
   "display_name": "TypeScript",
   "language": "typescript",
   "name": "tslab"
  },
  "language_info": {
   "codemirror_mode": {
    "mode": "typescript",
    "name": "javascript",
    "typescript": true
   },
   "file_extension": ".ts",
   "mimetype": "text/typescript",
   "name": "typescript",
   "version": "3.7.2"
  }
 },
 "nbformat": 4,
 "nbformat_minor": 2
}
