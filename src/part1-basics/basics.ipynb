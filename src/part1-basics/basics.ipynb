{
 "cells": [
  {
   "cell_type": "code",
   "execution_count": 1,
   "id": "71cce0c6-11a2-4331-b28d-b6f6481277c2",
   "metadata": {},
   "outputs": [],
   "source": [
    "import {Effect, Console} from 'effect'"
   ]
  },
  {
   "cell_type": "code",
   "execution_count": 2,
   "id": "9c4698e2-819b-422e-80b3-6ea5a99ff5e1",
   "metadata": {},
   "outputs": [
    {
     "name": "stdout",
     "output_type": "stream",
     "text": [
      "Hello world\n"
     ]
    }
   ],
   "source": [
    "Effect.runSync(Console.log(\"Hello world\"))\n"
   ]
  },
  {
   "cell_type": "code",
   "execution_count": 4,
   "id": "a530d6ce-b81f-4aa8-8893-f50d23767ad5",
   "metadata": {},
   "outputs": [],
   "source": [
    "const program = Effect.gen(function* (_) {\n",
    "    const foo = yield* _(Effect.sync(() => Date.now()));\n",
    "    yield* _(Console.log(foo))\n",
    "})"
   ]
  },
  {
   "cell_type": "code",
   "execution_count": 6,
   "id": "d92b4329-eb7e-4947-952f-5648e93c03f1",
   "metadata": {},
   "outputs": [
    {
     "name": "stdout",
     "output_type": "stream",
     "text": [
      "1706631631606\n"
     ]
    }
   ],
   "source": [
    "Effect.runSync(program)"
   ]
  },
  {
   "cell_type": "code",
   "execution_count": null,
   "id": "1a5f7e45-5166-49a4-ab36-f6d60f9f8caf",
   "metadata": {},
   "outputs": [],
   "source": []
  }
 ],
 "metadata": {
  "kernelspec": {
   "display_name": "TypeScript",
   "language": "typescript",
   "name": "tslab"
  },
  "language_info": {
   "codemirror_mode": {
    "mode": "typescript",
    "name": "javascript",
    "typescript": true
   },
   "file_extension": ".ts",
   "mimetype": "text/typescript",
   "name": "typescript",
   "version": "3.7.2"
  }
 },
 "nbformat": 4,
 "nbformat_minor": 5
}
